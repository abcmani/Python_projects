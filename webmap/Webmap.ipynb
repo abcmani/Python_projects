{
  "nbformat": 4,
  "nbformat_minor": 0,
  "metadata": {
    "colab": {
      "name": "Webmap.ipynb",
      "version": "0.3.2",
      "provenance": [],
      "include_colab_link": true
    },
    "kernelspec": {
      "name": "python3",
      "display_name": "Python 3"
    }
  },
  "cells": [
    {
      "cell_type": "markdown",
      "metadata": {
        "id": "view-in-github",
        "colab_type": "text"
      },
      "source": [
        "<a href=\"https://colab.research.google.com/github/abcmani/Python_projects/blob/master/webmap/Webmap.ipynb\" target=\"_parent\"><img src=\"https://colab.research.google.com/assets/colab-badge.svg\" alt=\"Open In Colab\"/></a>"
      ]
    },
    {
      "cell_type": "code",
      "metadata": {
        "id": "JUW9TTXds-xv",
        "colab_type": "code",
        "colab": {}
      },
      "source": [
        "import folium as f\n",
        "import pandas as pd"
      ],
      "execution_count": 0,
      "outputs": []
    },
    {
      "cell_type": "code",
      "metadata": {
        "id": "pAWW_tDktPHN",
        "colab_type": "code",
        "colab": {}
      },
      "source": [
        "df= pd.read_csv('/content/Volcanoes.txt')\n",
        "\n",
        "latmean =df['LAT'].mean()\n",
        "lonmean =df['LON'].mean()\n",
        "\n",
        "map= f.Map(location=[latmean,lonmean], zoom_start=6, tiles='Stamen terrain')\n",
        "\n",
        "for lat,lon,name,elev in zip(df['LAT'],df['LON'],df['NAME'],df['ELEV']):\n",
        "  f.Marker(location=[lat,lon], popup=name, icon=f.Icon(color=colour(elev), icon='cloud', icon_color='purple')).add_to(map)\n",
        "map.save('test.html')\n"
      ],
      "execution_count": 0,
      "outputs": []
    },
    {
      "cell_type": "code",
      "metadata": {
        "id": "p4J_wtDBDnCD",
        "colab_type": "code",
        "colab": {}
      },
      "source": [
        "def colour(elev):\n",
        "  if elev in range(0,1000):\n",
        "    return 'green'\n",
        "  elif elev in range(1001,2000):\n",
        "    return 'orange'\n",
        "  elif elev in range(2001,3000):\n",
        "    return 'blue'\n",
        "  else:\n",
        "    return 'red'"
      ],
      "execution_count": 0,
      "outputs": []
    },
    {
      "cell_type": "code",
      "metadata": {
        "id": "18eOyzvxx4C5",
        "colab_type": "code",
        "colab": {}
      },
      "source": [
        ""
      ],
      "execution_count": 0,
      "outputs": []
    }
  ]
}